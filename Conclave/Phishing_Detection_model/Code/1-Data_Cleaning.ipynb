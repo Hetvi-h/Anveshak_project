{
 "cells": [
  {
   "cell_type": "code",
   "execution_count": 1,
   "id": "b78cd943-0397-4f47-9067-a32a301e3d25",
   "metadata": {},
   "outputs": [],
   "source": [
    "import os\n",
    "import email\n",
    "from email import policy\n",
    "from email.parser import BytesParser\n",
    "import pandas as pd\n",
    "from bs4 import BeautifulSoup\n",
    "import re\n",
    "import matplotlib.pyplot as plt\n",
    "import seaborn as sns"
   ]
  },
  {
   "cell_type": "code",
   "execution_count": 2,
   "id": "f9f28e4e-8678-4f37-9042-84203ad27b89",
   "metadata": {},
   "outputs": [],
   "source": [
    "# --- STEP 1: FUNCTION TO PARSE A SINGLE EMAIL ---\n",
    "\n",
    "def parse_email_from_file(Data):\n",
    "    \"\"\"Parses a single .eml or .txt file to extract its content.\"\"\"\n",
    "    with open(Data, 'rb') as f:\n",
    "        msg = BytesParser(policy=policy.default).parse(f)\n",
    "    \n",
    "    body = ''\n",
    "    if msg.is_multipart():\n",
    "        for part in msg.walk():\n",
    "            ctype = part.get_content_type()\n",
    "            cdispo = str(part.get('Content-Disposition'))\n",
    "            if ctype == 'text/plain' and 'attachment' not in cdispo:\n",
    "                body = part.get_payload(decode=True).decode('utf-8', errors='ignore')\n",
    "                break\n",
    "    else:\n",
    "        body = msg.get_payload(decode=True).decode('utf-8', errors='ignore')\n",
    "        \n",
    "    # Clean up the body text by removing HTML tags\n",
    "    soup = BeautifulSoup(body, 'html.parser')\n",
    "    clean_body = soup.get_text()\n",
    "    \n",
    "    return {\n",
    "        'subject': msg['subject'],\n",
    "        'from': msg['from'],\n",
    "        'body': clean_body\n",
    "    }"
   ]
  },
  {
   "cell_type": "code",
   "execution_count": 3,
   "id": "7289e835-2689-4f4b-bd4f-f0083d27195c",
   "metadata": {},
   "outputs": [
    {
     "name": "stdout",
     "output_type": "stream",
     "text": [
      "Loading emails from raw data folders...\n",
      "Loading files from: Phishing_Detection_model/Data/spam\n"
     ]
    },
    {
     "name": "stderr",
     "output_type": "stream",
     "text": [
      "/var/folders/tn/twpv_bvs0mdcnkbzy21mh_hw0000gn/T/ipykernel_75038/2412238946.py:20: MarkupResemblesLocatorWarning: The input looks more like a filename than markup. You may want to open this file and pass the filehandle into Beautiful Soup.\n",
      "  soup = BeautifulSoup(body, 'html.parser')\n"
     ]
    },
    {
     "name": "stdout",
     "output_type": "stream",
     "text": [
      "Loading files from: Phishing_Detection_model/Data/ham\n"
     ]
    },
    {
     "name": "stderr",
     "output_type": "stream",
     "text": [
      "/var/folders/tn/twpv_bvs0mdcnkbzy21mh_hw0000gn/T/ipykernel_75038/2412238946.py:20: MarkupResemblesLocatorWarning: The input looks more like a URL than markup. You may want to use an HTTP client like requests to get the document behind the URL, and feed that document to Beautiful Soup.\n",
      "  soup = BeautifulSoup(body, 'html.parser')\n"
     ]
    },
    {
     "name": "stdout",
     "output_type": "stream",
     "text": [
      "\n",
      "Loaded 3052 emails successfully.\n",
      "Sample of the loaded data:\n"
     ]
    },
    {
     "data": {
      "text/html": [
       "<div>\n",
       "<style scoped>\n",
       "    .dataframe tbody tr th:only-of-type {\n",
       "        vertical-align: middle;\n",
       "    }\n",
       "\n",
       "    .dataframe tbody tr th {\n",
       "        vertical-align: top;\n",
       "    }\n",
       "\n",
       "    .dataframe thead th {\n",
       "        text-align: right;\n",
       "    }\n",
       "</style>\n",
       "<table border=\"1\" class=\"dataframe\">\n",
       "  <thead>\n",
       "    <tr style=\"text-align: right;\">\n",
       "      <th></th>\n",
       "      <th>subject</th>\n",
       "      <th>from</th>\n",
       "      <th>body</th>\n",
       "      <th>is_phishing</th>\n",
       "    </tr>\n",
       "  </thead>\n",
       "  <tbody>\n",
       "    <tr>\n",
       "      <th>0</th>\n",
       "      <td>Friend, Copy ANY DVD or Playstation Game with ...</td>\n",
       "      <td>CopyYourDVD &lt;atomica2020@hotmail.com&gt;</td>\n",
       "      <td>Friend,Now you can copy DVD's and Games\\nhttp:...</td>\n",
       "      <td>1</td>\n",
       "    </tr>\n",
       "    <tr>\n",
       "      <th>1</th>\n",
       "      <td>5% Guaranteed for Eight Years</td>\n",
       "      <td>IQ - Safe Harbor &lt;sh@insiq.us&gt;</td>\n",
       "      <td>Pocket the newest 8 year annuity!\\t Pocket th...</td>\n",
       "      <td>1</td>\n",
       "    </tr>\n",
       "    <tr>\n",
       "      <th>2</th>\n",
       "      <td>Congratulations! You Get a Free Handheld Organ...</td>\n",
       "      <td>Customer Service &lt;greatoffers@sendgreatoffers....</td>\n",
       "      <td>\\nCongratulations! You Get a Free Handheld Org...</td>\n",
       "      <td>1</td>\n",
       "    </tr>\n",
       "    <tr>\n",
       "      <th>3</th>\n",
       "      <td>One of a kind Money maker! Try it for free!</td>\n",
       "      <td>Ben Green &lt;bengreen@mindupmerchants.com&gt;</td>\n",
       "      <td></td>\n",
       "      <td>1</td>\n",
       "    </tr>\n",
       "    <tr>\n",
       "      <th>4</th>\n",
       "      <td>Online Doctors will fill your Viagra Prescript...</td>\n",
       "      <td>viagra_medication1182@martyrs.com.au</td>\n",
       "      <td>YOUR SEX DRIVE SHOULD NEVER BE SECOND ON THE L...</td>\n",
       "      <td>1</td>\n",
       "    </tr>\n",
       "  </tbody>\n",
       "</table>\n",
       "</div>"
      ],
      "text/plain": [
       "                                             subject  \\\n",
       "0  Friend, Copy ANY DVD or Playstation Game with ...   \n",
       "1                      5% Guaranteed for Eight Years   \n",
       "2  Congratulations! You Get a Free Handheld Organ...   \n",
       "3        One of a kind Money maker! Try it for free!   \n",
       "4  Online Doctors will fill your Viagra Prescript...   \n",
       "\n",
       "                                                from  \\\n",
       "0              CopyYourDVD <atomica2020@hotmail.com>   \n",
       "1                     IQ - Safe Harbor <sh@insiq.us>   \n",
       "2  Customer Service <greatoffers@sendgreatoffers....   \n",
       "3           Ben Green <bengreen@mindupmerchants.com>   \n",
       "4               viagra_medication1182@martyrs.com.au   \n",
       "\n",
       "                                                body  is_phishing  \n",
       "0  Friend,Now you can copy DVD's and Games\\nhttp:...            1  \n",
       "1   Pocket the newest 8 year annuity!\\t Pocket th...            1  \n",
       "2  \\nCongratulations! You Get a Free Handheld Org...            1  \n",
       "3                                                               1  \n",
       "4  YOUR SEX DRIVE SHOULD NEVER BE SECOND ON THE L...            1  "
      ]
     },
     "metadata": {},
     "output_type": "display_data"
    }
   ],
   "source": [
    "# --- STEP 2: LOAD ALL EMAILS FROM DATA FOLDERS ---\n",
    "\n",
    "print(\"Loading emails from raw data folders...\")\n",
    "# Define the correct paths to your new spam and ham subfolders\n",
    "spam_dir = 'Phishing_Detection_model/Data/spam'\n",
    "ham_dir = 'Phishing_Detection_model/Data/ham'\n",
    "\n",
    "emails = []\n",
    "\n",
    "# First loop: Load spam emails and label them as phishing (1)\n",
    "print(f\"Loading files from: {spam_dir}\")\n",
    "for filename in os.listdir(spam_dir):\n",
    "    # Ignore hidden system files like .DS_Store\n",
    "    if not filename.startswith('.'):\n",
    "        file_path = os.path.join(spam_dir, filename)\n",
    "        content = parse_email_from_file(file_path)\n",
    "        content['is_phishing'] = 1\n",
    "        emails.append(content)\n",
    "\n",
    "# Second loop: Load ham emails and label them as safe (0)\n",
    "print(f\"Loading files from: {ham_dir}\")\n",
    "for filename in os.listdir(ham_dir):\n",
    "     # Ignore hidden system files\n",
    "     if not filename.startswith('.'):\n",
    "        file_path = os.path.join(ham_dir, filename)\n",
    "        content = parse_email_from_file(file_path)\n",
    "        content['is_phishing'] = 0\n",
    "        emails.append(content)\n",
    "\n",
    "# The rest of the process is the same\n",
    "df = pd.DataFrame(emails)\n",
    "print(f\"\\nLoaded {len(df)} emails successfully.\")\n",
    "print(\"Sample of the loaded data:\")\n",
    "display(df.head())"
   ]
  },
  {
   "cell_type": "code",
   "execution_count": 4,
   "id": "e5224dc5-e015-41be-9b89-390c3e02dd23",
   "metadata": {},
   "outputs": [
    {
     "name": "stdout",
     "output_type": "stream",
     "text": [
      "\n",
      "Engineering features...\n",
      "Feature engineering complete.\n",
      "Sample of data with new features:\n"
     ]
    },
    {
     "data": {
      "text/html": [
       "<div>\n",
       "<style scoped>\n",
       "    .dataframe tbody tr th:only-of-type {\n",
       "        vertical-align: middle;\n",
       "    }\n",
       "\n",
       "    .dataframe tbody tr th {\n",
       "        vertical-align: top;\n",
       "    }\n",
       "\n",
       "    .dataframe thead th {\n",
       "        text-align: right;\n",
       "    }\n",
       "</style>\n",
       "<table border=\"1\" class=\"dataframe\">\n",
       "  <thead>\n",
       "    <tr style=\"text-align: right;\">\n",
       "      <th></th>\n",
       "      <th>body_length</th>\n",
       "      <th>subject_length</th>\n",
       "      <th>suspicious_keyword_count</th>\n",
       "      <th>url_count</th>\n",
       "      <th>special_char_count</th>\n",
       "      <th>is_phishing</th>\n",
       "    </tr>\n",
       "  </thead>\n",
       "  <tbody>\n",
       "    <tr>\n",
       "      <th>0</th>\n",
       "      <td>1773</td>\n",
       "      <td>65</td>\n",
       "      <td>0</td>\n",
       "      <td>5</td>\n",
       "      <td>14</td>\n",
       "      <td>1</td>\n",
       "    </tr>\n",
       "    <tr>\n",
       "      <th>1</th>\n",
       "      <td>863</td>\n",
       "      <td>29</td>\n",
       "      <td>0</td>\n",
       "      <td>1</td>\n",
       "      <td>6</td>\n",
       "      <td>1</td>\n",
       "    </tr>\n",
       "    <tr>\n",
       "      <th>2</th>\n",
       "      <td>1585</td>\n",
       "      <td>51</td>\n",
       "      <td>1</td>\n",
       "      <td>1</td>\n",
       "      <td>14</td>\n",
       "      <td>1</td>\n",
       "    </tr>\n",
       "    <tr>\n",
       "      <th>3</th>\n",
       "      <td>0</td>\n",
       "      <td>43</td>\n",
       "      <td>0</td>\n",
       "      <td>0</td>\n",
       "      <td>0</td>\n",
       "      <td>1</td>\n",
       "    </tr>\n",
       "    <tr>\n",
       "      <th>4</th>\n",
       "      <td>1304</td>\n",
       "      <td>76</td>\n",
       "      <td>0</td>\n",
       "      <td>6</td>\n",
       "      <td>11</td>\n",
       "      <td>1</td>\n",
       "    </tr>\n",
       "  </tbody>\n",
       "</table>\n",
       "</div>"
      ],
      "text/plain": [
       "   body_length  subject_length  suspicious_keyword_count  url_count  \\\n",
       "0         1773              65                         0          5   \n",
       "1          863              29                         0          1   \n",
       "2         1585              51                         1          1   \n",
       "3            0              43                         0          0   \n",
       "4         1304              76                         0          6   \n",
       "\n",
       "   special_char_count  is_phishing  \n",
       "0                  14            1  \n",
       "1                   6            1  \n",
       "2                  14            1  \n",
       "3                   0            1  \n",
       "4                  11            1  "
      ]
     },
     "metadata": {},
     "output_type": "display_data"
    }
   ],
   "source": [
    "# --- STEP 3: FEATURE ENGINEERING ---\n",
    "# [cite_start]We will create \"email metadata and content-based features\" to detect attacks[cite: 39].\n",
    "print(\"\\nEngineering features...\")\n",
    "\n",
    "def extract_features(df):\n",
    "    # Make sure 'body' and 'subject' columns are strings\n",
    "    df['body'] = df['body'].astype(str)\n",
    "    df['subject'] = df['subject'].astype(str)\n",
    "\n",
    "    # 1. Body Length\n",
    "    df['body_length'] = df['body'].str.len()\n",
    "    \n",
    "    # 2. Subject Length\n",
    "    df['subject_length'] = df['subject'].str.len()\n",
    "\n",
    "    # 3. Count of Suspicious Keywords (content-based)\n",
    "    suspicious_keywords = ['verify', 'update', 'login', 'urgent', 'account', 'password', 'suspend', 'confirm']\n",
    "    df['suspicious_keyword_count'] = df['body'].apply(lambda x: sum(keyword in x.lower() for keyword in suspicious_keywords))\n",
    "    \n",
    "    # 4. Count of URLs (metadata)\n",
    "    df['url_count'] = df['body'].apply(lambda x: len(re.findall(r'http[s]?://', x)))\n",
    "    \n",
    "    # 5. Count of Special Characters\n",
    "    df['special_char_count'] = df['body'].apply(lambda x: len(re.findall(r'[!$%^&*()]', x)))\n",
    "    \n",
    "    return df\n",
    "\n",
    "df_features = extract_features(df.copy())\n",
    "print(\"Feature engineering complete.\")\n",
    "print(\"Sample of data with new features:\")\n",
    "# Display only the new feature columns and the target\n",
    "display(df_features[['body_length', 'subject_length', 'suspicious_keyword_count', 'url_count', 'special_char_count', 'is_phishing']].head())\n"
   ]
  },
  {
   "cell_type": "code",
   "execution_count": 5,
   "id": "fa8f3ed6-55d4-419d-969c-092273a53ebb",
   "metadata": {},
   "outputs": [
    {
     "name": "stdout",
     "output_type": "stream",
     "text": [
      "\n",
      "Visualizing a feature...\n"
     ]
    },
    {
     "data": {
      "image/png": "[encoded data removed]",
      "text/plain": [
       "<Figure size 1000x600 with 1 Axes>"
      ]
     },
     "metadata": {},
     "output_type": "display_data"
    }
   ],
   "source": [
    "# --- STEP 4: EXPLORATORY DATA ANALYSIS (EDA) ---\n",
    "print(\"\\nVisualizing a feature...\")\n",
    "plt.figure(figsize=(10, 6))\n",
    "sns.histplot(data=df_features, x='suspicious_keyword_count', hue='is_phishing', multiple='stack', bins=20)\n",
    "plt.title('Distribution of Suspicious Keywords')\n",
    "plt.show()"
   ]
  },
  {
   "cell_type": "code",
   "execution_count": 6,
   "id": "8d8a650f-c060-435e-b04d-2f80f40ea38e",
   "metadata": {},
   "outputs": [
    {
     "name": "stdout",
     "output_type": "stream",
     "text": [
      "\n",
      "Processed data with features saved to: Phishing_Detection_model/processed/email_features.csv\n"
     ]
    }
   ],
   "source": [
    "# --- STEP 5: SAVE THE PROCESSED DATAFRAME ---\n",
    "\n",
    "# Drop the raw text columns before saving\n",
    "df_final = df_features.drop(columns=['subject', 'from', 'body'])\n",
    "\n",
    "# Define the path for the folder you want to create\n",
    "output_folder = 'Phishing_Detection_model/processed'\n",
    "# Use os.makedirs() to create the folder. exist_ok=True prevents an error if it already exists.\n",
    "os.makedirs(output_folder, exist_ok=True)\n",
    "\n",
    "# Define the full path to the output file\n",
    "output_path = os.path.join(output_folder, 'email_features.csv')\n",
    "\n",
    "# Now, save the file to the newly created directory\n",
    "df_final.to_csv(output_path, index=False)\n",
    "\n",
    "print(f\"\\nProcessed data with features saved to: {output_path}\")"
   ]
  },
  {
   "cell_type": "code",
   "execution_count": 7,
   "id": "80ae3660-9c39-462f-bc1d-6ec7deb2e511",
   "metadata": {},
   "outputs": [
    {
     "name": "stdout",
     "output_type": "stream",
     "text": [
      "total 96\n",
      "-rw-r--r--  1 om  staff  47849 Jul 23 15:44 email_features.csv\n"
     ]
    }
   ],
   "source": [
    "!ls -l Phishing_Detection_model/processed/"
   ]
  },
  {
   "cell_type": "code",
   "execution_count": null,
   "id": "7461df5d-0bff-4255-b9cd-73b0478fe3cf",
   "metadata": {},
   "outputs": [],
   "source": []
  }
 ],
 "metadata": {
  "kernelspec": {
   "display_name": "Python 3 (ipykernel)",
   "language": "python",
   "name": "python3"
  },
  "language_info": {
   "codemirror_mode": {
    "name": "ipython",
    "version": 3
   },
   "file_extension": ".py",
   "mimetype": "text/x-python",
   "name": "python",
   "nbconvert_exporter": "python",
   "pygments_lexer": "ipython3",
   "version": "3.12.7"
  }
 },
 "nbformat": 4,
 "nbformat_minor": 5
}
