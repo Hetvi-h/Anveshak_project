{
 "cells": [
  {
   "cell_type": "code",
   "execution_count": 1,
   "id": "f43091eb-6a82-4680-9c28-1dc5b64e8965",
   "metadata": {},
   "outputs": [],
   "source": [
    "import pandas as pd\n",
    "import xgboost as xgb\n",
    "from sklearn.model_selection import train_test_split\n",
    "from sklearn.metrics import accuracy_score, classification_report, ConfusionMatrixDisplay\n",
    "import matplotlib.pyplot as plt\n",
    "import joblib\n",
    "import os"
   ]
  },
  {
   "cell_type": "code",
   "execution_count": 3,
   "id": "8b126209-d396-4d4f-a6e7-54cbb1827084",
   "metadata": {},
   "outputs": [
    {
     "name": "stdout",
     "output_type": "stream",
     "text": [
      "Loading processed data...\n"
     ]
    }
   ],
   "source": [
    "# 1. Load the Processed Data\n",
    "print(\"Loading processed data...\")\n",
    "# The corrected path WITHOUT the leading slash\n",
    "input_path = '/Users/om/Conclave/Phishing_Detection_model/processed/email_features.csv'\n",
    "df = pd.read_csv(input_path)"
   ]
  },
  {
   "cell_type": "code",
   "execution_count": 4,
   "id": "db773e1f-c007-422e-820c-b4540a6d63d3",
   "metadata": {},
   "outputs": [],
   "source": [
    "# 2. Prepare Data for Modeling\n",
    "X = df.drop('is_phishing', axis=1)\n",
    "y = df['is_phishing']"
   ]
  },
  {
   "cell_type": "code",
   "execution_count": 5,
   "id": "d6e91ff4-90d0-461b-88c2-c503ba976fd7",
   "metadata": {},
   "outputs": [
    {
     "name": "stdout",
     "output_type": "stream",
     "text": [
      "Splitting data...\n"
     ]
    }
   ],
   "source": [
    "# 3. Split Data into Training and Testing Sets\n",
    "print(\"Splitting data...\")\n",
    "X_train, X_test, y_train, y_test = train_test_split(X, y, test_size=0.25, random_state=42, stratify=y)"
   ]
  },
  {
   "cell_type": "code",
   "execution_count": 7,
   "id": "45c9382c-4a78-408f-b55c-87bbe71e0d0a",
   "metadata": {},
   "outputs": [
    {
     "name": "stdout",
     "output_type": "stream",
     "text": [
      "\n",
      "Training the XGBoost model...\n",
      "Model training complete.\n"
     ]
    }
   ],
   "source": [
    "# 4. Initialize and Train the XGBoost Model\n",
    "print(\"\\nTraining the XGBoost model...\")\n",
    "model = xgb.XGBClassifier(objective='binary:logistic', eval_metric='logloss', random_state=42)\n",
    "model.fit(X_train, y_train)\n",
    "print(\"Model training complete.\")"
   ]
  },
  {
   "cell_type": "code",
   "execution_count": 8,
   "id": "e70aaccd-887d-45fe-9ee7-0f6d7a1729dc",
   "metadata": {},
   "outputs": [
    {
     "name": "stdout",
     "output_type": "stream",
     "text": [
      "\n",
      "Evaluating model performance...\n",
      "Accuracy: 89.52%\n",
      "\n",
      "Classification Report:\n",
      "              precision    recall  f1-score   support\n",
      "\n",
      "        Safe       0.91      0.98      0.94       638\n",
      "    Phishing       0.80      0.48      0.60       125\n",
      "\n",
      "    accuracy                           0.90       763\n",
      "   macro avg       0.85      0.73      0.77       763\n",
      "weighted avg       0.89      0.90      0.88       763\n",
      "\n"
     ]
    }
   ],
   "source": [
    "# 5. Evaluate the Model's Performance\n",
    "print(\"\\nEvaluating model performance...\")\n",
    "preds = model.predict(X_test)\n",
    "accuracy = accuracy_score(y_test, preds)\n",
    "print(f\"Accuracy: {accuracy * 100:.2f}%\")\n",
    "print(\"\\nClassification Report:\")\n",
    "print(classification_report(y_test, preds, target_names=['Safe', 'Phishing']))"
   ]
  },
  {
   "cell_type": "code",
   "execution_count": 9,
   "id": "2fff92d4-bf80-41e9-b5ec-b31ab82c87f4",
   "metadata": {},
   "outputs": [
    {
     "data": {
      "image/png": "[encoded data removed]",
      "text/plain": [
       "<Figure size 800x600 with 2 Axes>"
      ]
     },
     "metadata": {},
     "output_type": "display_data"
    }
   ],
   "source": [
    "fig, ax = plt.subplots(figsize=(8, 6))\n",
    "ConfusionMatrixDisplay.from_estimator(model, X_test, y_test, cmap='Blues', ax=ax, display_labels=['Safe', 'Phishing'])\n",
    "plt.title('Confusion Matrix')\n",
    "plt.show()"
   ]
  },
  {
   "cell_type": "code",
   "execution_count": 10,
   "id": "4a13470c-b186-45ea-ac58-9cede0b9caa7",
   "metadata": {},
   "outputs": [
    {
     "name": "stdout",
     "output_type": "stream",
     "text": [
      "\n",
      "Saving the trained model...\n",
      "Model successfully saved to: Phishing_Detection_model/models/phishing_detector_v1.joblib\n"
     ]
    }
   ],
   "source": [
    "# 6. Save the Trained Model\n",
    "print(\"\\nSaving the trained model...\")\n",
    "output_folder = 'Phishing_Detection_model/models'\n",
    "os.makedirs(output_folder, exist_ok=True)\n",
    "model_path = os.path.join(output_folder, 'phishing_detector_v1.joblib')\n",
    "joblib.dump(model, model_path)\n",
    "print(f\"Model successfully saved to: {model_path}\")"
   ]
  },
  {
   "cell_type": "code",
   "execution_count": null,
   "id": "25acad80-5bc4-4a6f-b275-64e8abdf41e5",
   "metadata": {},
   "outputs": [],
   "source": []
  }
 ],
 "metadata": {
  "kernelspec": {
   "display_name": "Python 3 (ipykernel)",
   "language": "python",
   "name": "python3"
  },
  "language_info": {
   "codemirror_mode": {
    "name": "ipython",
    "version": 3
   },
   "file_extension": ".py",
   "mimetype": "text/x-python",
   "name": "python",
   "nbconvert_exporter": "python",
   "pygments_lexer": "ipython3",
   "version": "3.12.7"
  }
 },
 "nbformat": 4,
 "nbformat_minor": 5
}
